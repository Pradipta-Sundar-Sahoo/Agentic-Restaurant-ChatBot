{
 "cells": [
  {
   "cell_type": "code",
   "execution_count": null,
   "metadata": {},
   "outputs": [
    {
     "ename": "",
     "evalue": "",
     "output_type": "error",
     "traceback": [
      "\u001b[1;31mThe Kernel crashed while executing code in the current cell or a previous cell. \n",
      "\u001b[1;31mPlease review the code in the cell(s) to identify a possible cause of the failure. \n",
      "\u001b[1;31mClick <a href='https://aka.ms/vscodeJupyterKernelCrash'>here</a> for more info. \n",
      "\u001b[1;31mView Jupyter <a href='command:jupyter.viewOutput'>log</a> for further details."
     ]
    }
   ],
   "source": [
    "import pandas as pd\n",
    "\n",
    "df = pd.read_csv(\"restaurant_menu_data.csv\")\n",
    "\n",
    "def build_description(row):\n",
    "    text = \"\"\n",
    "    if pd.notna(row['item_name']):\n",
    "        text += str(row['item_name']) + \" \"\n",
    "    if pd.notna(row['item_category']):\n",
    "        text += \"category: \" + str(row['item_category']) + \" \"\n",
    "    if pd.notna(row['item_description']):\n",
    "        text += \"description: \" + str(row['item_description'])\n",
    "    \n",
    "    return text.strip()\n",
    "\n",
    "df['description_clean'] = df.apply(build_description, axis=1)\n",
    "df['city'] = df['restaurant_source_url'].str.split('/').str[-3].str.strip().str.capitalize()\n",
    "\n",
    "\n",
    "df.to_csv(\"restaurants_menu_data_cleaned.csv\", index=False)\n"
   ]
  }
 ],
 "metadata": {
  "kernelspec": {
   "display_name": "nugvenv",
   "language": "python",
   "name": "python3"
  },
  "language_info": {
   "codemirror_mode": {
    "name": "ipython",
    "version": 3
   },
   "file_extension": ".py",
   "mimetype": "text/x-python",
   "name": "python",
   "nbconvert_exporter": "python",
   "pygments_lexer": "ipython3",
   "version": "3.13.2"
  }
 },
 "nbformat": 4,
 "nbformat_minor": 2
}
